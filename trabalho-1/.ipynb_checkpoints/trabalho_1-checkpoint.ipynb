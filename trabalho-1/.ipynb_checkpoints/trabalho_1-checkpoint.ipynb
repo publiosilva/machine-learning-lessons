{
 "cells": [
  {
   "cell_type": "code",
   "execution_count": 1,
   "metadata": {},
   "outputs": [],
   "source": [
    "import numpy as np\n",
    "\n",
    "from linear_regression import SimpleLinearRegressionAM, SimpleLinearRegressionGD, MultipleLinearRegressionAM, MultipleLinearRegressionGD, MultipleLinearRegressionSGD, RegularizedLinearRegressionGD\n",
    "from regression_metrics import MSE, R2"
   ]
  },
  {
   "cell_type": "markdown",
   "metadata": {},
   "source": [
    "## 1. Implemente os seguintes métodos"
   ]
  },
  {
   "cell_type": "markdown",
   "metadata": {},
   "source": [
    "### a. Regressão Linear univariada - método analítico"
   ]
  },
  {
   "cell_type": "code",
   "execution_count": 2,
   "metadata": {},
   "outputs": [
    {
     "data": {
      "text/plain": [
       "array([23., 25., 27., 29., 31.])"
      ]
     },
     "execution_count": 2,
     "metadata": {},
     "output_type": "execute_result"
    }
   ],
   "source": [
    "X_train, y_train = np.array([1, 2, 3, 4, 5, 6, 7, 8, 9, 10]), np.array([\n",
    "        3, 5, 7, 9, 11, 13, 15, 17, 19, 21])\n",
    "X_test, y_test = np.array([11, 12, 13, 14, 15]), np.array([23, 25, 27, 29, 31])\n",
    "\n",
    "model = SimpleLinearRegressionAM()\n",
    "model.fit(X_train, y_train)\n",
    "\n",
    "y_predict = model.predict(X_test)\n",
    "\n",
    "y_predict"
   ]
  },
  {
   "cell_type": "markdown",
   "metadata": {},
   "source": [
    "### b. Regressão Linear univariada - gradiente descendente"
   ]
  },
  {
   "cell_type": "code",
   "execution_count": 3,
   "metadata": {},
   "outputs": [
    {
     "data": {
      "text/plain": [
       "array([23., 25., 27., 29., 31.])"
      ]
     },
     "execution_count": 3,
     "metadata": {},
     "output_type": "execute_result"
    }
   ],
   "source": [
    "X_train, y_train = np.array([1., 2., 3., 4., 5., 6., 7., 8., 9., 10.]), np.array([\n",
    "        3., 5., 7., 9., 11., 13., 15., 17., 19., 21.])\n",
    "X_test, y_test = np.array([11., 12., 13., 14., 15.]), np.array([23., 25., 27., 29., 31.])\n",
    "\n",
    "model = SimpleLinearRegressionGD(learning_rate=0.01, ages=8918)\n",
    "model.fit(X_train, y_train)\n",
    "\n",
    "y_predict = model.predict(X_test)\n",
    "\n",
    "y_predict"
   ]
  },
  {
   "cell_type": "markdown",
   "metadata": {},
   "source": [
    "### c. Regressão Linear multivariada – método analítico (não esquecer de adicionar termo de bias)"
   ]
  },
  {
   "cell_type": "code",
   "execution_count": 4,
   "metadata": {},
   "outputs": [
    {
     "data": {
      "text/plain": [
       "array([75., 93.])"
      ]
     },
     "execution_count": 4,
     "metadata": {},
     "output_type": "execute_result"
    }
   ],
   "source": [
    "X_train, y_train = np.array([[1, 2, 3], [4, 5, 6],\n",
    "                        [7, 8, 9], [10, 11, 12]]), np.array([15, 33, 51, 69])\n",
    "X_test, y_test = np.array([[11, 12, 13], [14, 15, 16]]), np.array([75, 93])\n",
    "\n",
    "model = MultipleLinearRegressionAM()\n",
    "model.fit(X_train, y_train)\n",
    "\n",
    "y_predict = model.predict(X_test)\n",
    "\n",
    "y_predict"
   ]
  },
  {
   "cell_type": "markdown",
   "metadata": {},
   "source": [
    "### d. Regressão Linear multivariada – gradiente descendente"
   ]
  },
  {
   "cell_type": "code",
   "execution_count": 5,
   "metadata": {},
   "outputs": [
    {
     "data": {
      "text/plain": [
       "array([75., 93.])"
      ]
     },
     "execution_count": 5,
     "metadata": {},
     "output_type": "execute_result"
    }
   ],
   "source": [
    "X_train, y_train = np.array([[1, 2, 3], [4, 5, 6],\n",
    "                        [7, 8, 9], [10, 11, 12]]), np.array([15, 33, 51, 69])\n",
    "X_test, y_test = np.array([[11, 12, 13], [14, 15, 16]]), np.array([75, 93])\n",
    "\n",
    "model = MultipleLinearRegressionGD(ages=3165)\n",
    "model.fit(X_train, y_train)\n",
    "\n",
    "y_predict = model.predict(X_test)\n",
    "\n",
    "y_predict"
   ]
  },
  {
   "cell_type": "markdown",
   "metadata": {},
   "source": [
    "### e. Regressão Linear multivariada – gradiente descendente estocástico"
   ]
  },
  {
   "cell_type": "code",
   "execution_count": 6,
   "metadata": {},
   "outputs": [
    {
     "data": {
      "text/plain": [
       "array([75., 93.])"
      ]
     },
     "execution_count": 6,
     "metadata": {},
     "output_type": "execute_result"
    }
   ],
   "source": [
    "X_train, y_train = np.array([[1, 2, 3], [4, 5, 6],\n",
    "                        [7, 8, 9], [10, 11, 12]]), np.array([15, 33, 51, 69])\n",
    "X_test, y_test = np.array([[11, 12, 13], [14, 15, 16]]), np.array([75, 93])\n",
    "\n",
    "model = MultipleLinearRegressionSGD(ages=5522)\n",
    "model.fit(X_train, y_train)\n",
    "\n",
    "y_predict = model.predict(X_test)\n",
    "\n",
    "y_predict"
   ]
  },
  {
   "cell_type": "markdown",
   "metadata": {},
   "source": [
    "### f. Regressão quadrática usando regressão múltipla"
   ]
  },
  {
   "cell_type": "code",
   "execution_count": 7,
   "metadata": {},
   "outputs": [
    {
     "data": {
      "text/plain": [
       "array([121., 144., 169., 196., 225.])"
      ]
     },
     "execution_count": 7,
     "metadata": {},
     "output_type": "execute_result"
    }
   ],
   "source": [
    "class SquareRegression(MultipleLinearRegressionAM):\n",
    "    def fit(self, X, y):\n",
    "        square_X = np.power(X, 2)\n",
    "        _X = np.c_[X, square_X]\n",
    "\n",
    "        super().fit(_X, y)\n",
    "\n",
    "    def predict(self, x):\n",
    "        square_x = np.power(x, 2)\n",
    "        _x = np.c_[x, square_x]\n",
    "\n",
    "        return super().predict(_x)\n",
    "\n",
    "\n",
    "X_train, y_train = np.array([1, 2, 3, 4, 5, 6, 7, 8, 9, 10]), np.array([\n",
    "        1, 4, 9, 16, 25, 36, 49, 64, 81, 100])\n",
    "X_test, y_test = np.array([11, 12, 13, 14, 15]), np.array([121, 144, 169, 196, 225])\n",
    "\n",
    "model = SquareRegression()\n",
    "model.fit(X_train, y_train)\n",
    "\n",
    "y_predict = model.predict(X_test)\n",
    "\n",
    "y_predict"
   ]
  },
  {
   "cell_type": "markdown",
   "metadata": {},
   "source": [
    "### g. Regressão cúbica usando regressão múltipla"
   ]
  },
  {
   "cell_type": "code",
   "execution_count": 8,
   "metadata": {},
   "outputs": [
    {
     "data": {
      "text/plain": [
       "array([1331.        , 1728.        , 2197.        , 2744.        ,\n",
       "       3375.00000001])"
      ]
     },
     "execution_count": 8,
     "metadata": {},
     "output_type": "execute_result"
    }
   ],
   "source": [
    "class CubicRegression(MultipleLinearRegressionAM):\n",
    "    def fit(self, X, y):\n",
    "        square_X = np.power(X, 2)\n",
    "        cubic_X = np.power(X, 3)\n",
    "        _X = np.c_[X, square_X, cubic_X]\n",
    "\n",
    "        super().fit(_X, y)\n",
    "\n",
    "    def predict(self, x):\n",
    "        square_x = np.power(x, 2)\n",
    "        cubic_x = np.power(x, 3)\n",
    "        _x = np.c_[x, square_x, cubic_x]\n",
    "\n",
    "        return super().predict(_x)\n",
    "\n",
    "\n",
    "X_train, y_train = np.array([1, 2, 3, 4, 5, 6, 7, 8, 9, 10]), np.array(\n",
    "        [1, 8, 27, 64, 125, 216, 343, 512, 729, 1000])\n",
    "X_test, y_test = np.array([11, 12, 13, 14, 15]), np.array(\n",
    "    [1331, 1728, 2197, 2744, 3375])\n",
    "\n",
    "model = CubicRegression()\n",
    "model.fit(X_train, y_train)\n",
    "\n",
    "y_predict = model.predict(X_test)\n",
    "\n",
    "y_predict"
   ]
  },
  {
   "cell_type": "markdown",
   "metadata": {},
   "source": [
    "### h. Regressão Linear Regularizada multivariada – gradiente descendente"
   ]
  },
  {
   "cell_type": "code",
   "execution_count": 64,
   "metadata": {},
   "outputs": [
    {
     "data": {
      "text/plain": [
       "array([75., 93.])"
      ]
     },
     "execution_count": 64,
     "metadata": {},
     "output_type": "execute_result"
    }
   ],
   "source": [
    "X_train, y_train = np.array([[1, 2, 3], [4, 5, 6],\n",
    "                        [7, 8, 9], [10, 11, 12]]), np.array([15, 33, 51, 69])\n",
    "X_test, y_test = np.array([[11, 12, 13], [14, 15, 16]]), np.array([75, 93])\n",
    "\n",
    "model = RegularizedLinearRegressionGD(learning_rate=0.001, ages=23796, regularization_rate=0)\n",
    "model.fit(X_train, y_train)\n",
    "\n",
    "y_predict = model.predict(X_test)\n",
    "\n",
    "y_predict"
   ]
  },
  {
   "cell_type": "markdown",
   "metadata": {},
   "source": [
    "## 2. Implemente as funções"
   ]
  },
  {
   "cell_type": "markdown",
   "metadata": {},
   "source": [
    "### a. MSE(y_true, y_predict)"
   ]
  },
  {
   "cell_type": "code",
   "execution_count": 10,
   "metadata": {
    "scrolled": true
   },
   "outputs": [
    {
     "data": {
      "text/plain": [
       "0.4"
      ]
     },
     "execution_count": 10,
     "metadata": {},
     "output_type": "execute_result"
    }
   ],
   "source": [
    "y_true, y_predict = np.array([23., 25., 26., 30., 31.]), np.array([23., 25., 27., 29., 31.])\n",
    "\n",
    "MSE(y_true, y_predict)"
   ]
  },
  {
   "cell_type": "markdown",
   "metadata": {},
   "source": [
    "### b. R2(y_true, y_predict)"
   ]
  },
  {
   "cell_type": "code",
   "execution_count": 11,
   "metadata": {},
   "outputs": [
    {
     "data": {
      "text/plain": [
       "0.9565217391304348"
      ]
     },
     "execution_count": 11,
     "metadata": {},
     "output_type": "execute_result"
    }
   ],
   "source": [
    "y_true, y_predict = np.array([23., 25., 26., 30., 31.]), np.array([23., 25., 27., 29., 31.])\n",
    "\n",
    "R2(y_true, y_predict)"
   ]
  },
  {
   "cell_type": "markdown",
   "metadata": {},
   "source": [
    "## 3. Carregue o conjunto de dados Boston House Price Dataset (https://archive.ics.uci.edu/ml/machine-learning-databases/housing/). Nesse link também contém a descrição dos atributos"
   ]
  },
  {
   "cell_type": "code",
   "execution_count": 83,
   "metadata": {},
   "outputs": [
    {
     "data": {
      "text/plain": [
       "array([[6.3200e-03, 1.8000e+01, 2.3100e+00, ..., 3.9690e+02, 4.9800e+00,\n",
       "        2.4000e+01],\n",
       "       [2.7310e-02, 0.0000e+00, 7.0700e+00, ..., 3.9690e+02, 9.1400e+00,\n",
       "        2.1600e+01],\n",
       "       [2.7290e-02, 0.0000e+00, 7.0700e+00, ..., 3.9283e+02, 4.0300e+00,\n",
       "        3.4700e+01],\n",
       "       ...,\n",
       "       [6.0760e-02, 0.0000e+00, 1.1930e+01, ..., 3.9690e+02, 5.6400e+00,\n",
       "        2.3900e+01],\n",
       "       [1.0959e-01, 0.0000e+00, 1.1930e+01, ..., 3.9345e+02, 6.4800e+00,\n",
       "        2.2000e+01],\n",
       "       [4.7410e-02, 0.0000e+00, 1.1930e+01, ..., 3.9690e+02, 7.8800e+00,\n",
       "        1.1900e+01]])"
      ]
     },
     "execution_count": 83,
     "metadata": {},
     "output_type": "execute_result"
    }
   ],
   "source": [
    "dataset = np.loadtxt('./datasets/housing.data')\n",
    "\n",
    "dataset"
   ]
  },
  {
   "cell_type": "markdown",
   "metadata": {},
   "source": [
    "### 4. Vamos analisar apenas a variável LSTAT como atributo preditor e a variável MEDV como atributo alvo"
   ]
  },
  {
   "cell_type": "code",
   "execution_count": 85,
   "metadata": {},
   "outputs": [
    {
     "data": {
      "text/plain": [
       "array([[ 4.98, 24.  ],\n",
       "       [ 9.14, 21.6 ],\n",
       "       [ 4.03, 34.7 ],\n",
       "       ...,\n",
       "       [ 5.64, 23.9 ],\n",
       "       [ 6.48, 22.  ],\n",
       "       [ 7.88, 11.9 ]])"
      ]
     },
     "execution_count": 85,
     "metadata": {},
     "output_type": "execute_result"
    }
   ],
   "source": [
    "dataset = dataset[:, 12:]\n",
    "\n",
    "dataset"
   ]
  },
  {
   "cell_type": "markdown",
   "metadata": {},
   "source": [
    "### 5. Embaralhe as amostras com seus valores alvo. Divida o conjunto de dados em 80% para treino e 20% para teste."
   ]
  },
  {
   "cell_type": "code",
   "execution_count": 88,
   "metadata": {},
   "outputs": [
    {
     "ename": "SyntaxError",
     "evalue": "invalid syntax (<ipython-input-88-41b6b281aed8>, line 10)",
     "output_type": "error",
     "traceback": [
      "\u001b[0;36m  File \u001b[0;32m\"<ipython-input-88-41b6b281aed8>\"\u001b[0;36m, line \u001b[0;32m10\u001b[0m\n\u001b[0;31m    return X[:n_train], X[n_train:], y[:n_train], y[n_test:]\u001b[0m\n\u001b[0m    ^\u001b[0m\n\u001b[0;31mSyntaxError\u001b[0m\u001b[0;31m:\u001b[0m invalid syntax\n"
     ]
    }
   ],
   "source": [
    "np.random.shuffle(dataset)\n",
    "\n",
    "X = dataset[0]\n",
    "y = dataset[1]\n",
    "\n",
    "\n",
    "def my_train_test_split(X, y, test_size):\n",
    "    n_train = int(np.shape(y)[0] * (1 - test_size))\n",
    "    \n",
    "    return X[:n_train], X[n_train:], y[:n_train], y[n_test:]\n",
    "\n",
    "                  \n",
    "X_train, X_test, y_train, y_test = my_train_test_split(X, y, test_size)"
   ]
  },
  {
   "cell_type": "code",
   "execution_count": null,
   "metadata": {},
   "outputs": [],
   "source": []
  }
 ],
 "metadata": {
  "kernelspec": {
   "display_name": "Python 3",
   "language": "python",
   "name": "python3"
  },
  "language_info": {
   "codemirror_mode": {
    "name": "ipython",
    "version": 3
   },
   "file_extension": ".py",
   "mimetype": "text/x-python",
   "name": "python",
   "nbconvert_exporter": "python",
   "pygments_lexer": "ipython3",
   "version": "3.8.2"
  }
 },
 "nbformat": 4,
 "nbformat_minor": 4
}
