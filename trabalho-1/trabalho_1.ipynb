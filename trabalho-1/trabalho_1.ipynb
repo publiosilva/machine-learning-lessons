{
 "cells": [
  {
   "cell_type": "code",
   "execution_count": 137,
   "metadata": {},
   "outputs": [],
   "source": [
    "import numpy as np\n",
    "\n",
    "import matplotlib.pyplot as plt\n",
    "\n",
    "from linear_regression import SimpleLinearRegressionAM, SimpleLinearRegressionGD, MultipleLinearRegressionAM, MultipleLinearRegressionGD, MultipleLinearRegressionSGD, RegularizedLinearRegressionGD\n",
    "from regression_metrics import MSE, R2"
   ]
  },
  {
   "cell_type": "markdown",
   "metadata": {},
   "source": [
    "## 1. Implemente os seguintes métodos"
   ]
  },
  {
   "cell_type": "markdown",
   "metadata": {},
   "source": [
    "### a. Regressão Linear univariada - método analítico"
   ]
  },
  {
   "cell_type": "code",
   "execution_count": 138,
   "metadata": {},
   "outputs": [
    {
     "data": {
      "text/plain": [
       "array([23., 25., 27., 29., 31.])"
      ]
     },
     "execution_count": 138,
     "metadata": {},
     "output_type": "execute_result"
    }
   ],
   "source": [
    "X_train, y_train = np.array([1, 2, 3, 4, 5, 6, 7, 8, 9, 10]), np.array([\n",
    "        3, 5, 7, 9, 11, 13, 15, 17, 19, 21])\n",
    "X_test, y_test = np.array([11, 12, 13, 14, 15]), np.array([23, 25, 27, 29, 31])\n",
    "\n",
    "model = SimpleLinearRegressionAM()\n",
    "model.fit(X_train, y_train)\n",
    "\n",
    "y_predict = model.predict(X_test)\n",
    "\n",
    "y_predict"
   ]
  },
  {
   "cell_type": "markdown",
   "metadata": {},
   "source": [
    "### b. Regressão Linear univariada - gradiente descendente"
   ]
  },
  {
   "cell_type": "code",
   "execution_count": 139,
   "metadata": {},
   "outputs": [
    {
     "data": {
      "text/plain": [
       "array([23., 25., 27., 29., 31.])"
      ]
     },
     "execution_count": 139,
     "metadata": {},
     "output_type": "execute_result"
    }
   ],
   "source": [
    "X_train, y_train = np.array([1., 2., 3., 4., 5., 6., 7., 8., 9., 10.]), np.array([\n",
    "        3., 5., 7., 9., 11., 13., 15., 17., 19., 21.])\n",
    "X_test, y_test = np.array([11., 12., 13., 14., 15.]), np.array([23., 25., 27., 29., 31.])\n",
    "\n",
    "model = SimpleLinearRegressionGD(learning_rate=0.01, ages=8918)\n",
    "model.fit(X_train, y_train)\n",
    "\n",
    "y_predict = model.predict(X_test)\n",
    "\n",
    "y_predict"
   ]
  },
  {
   "cell_type": "markdown",
   "metadata": {},
   "source": [
    "### c. Regressão Linear multivariada – método analítico (não esquecer de adicionar termo de bias)"
   ]
  },
  {
   "cell_type": "code",
   "execution_count": 140,
   "metadata": {},
   "outputs": [
    {
     "data": {
      "text/plain": [
       "array([75., 93.])"
      ]
     },
     "execution_count": 140,
     "metadata": {},
     "output_type": "execute_result"
    }
   ],
   "source": [
    "X_train, y_train = np.array([[1, 2, 3], [4, 5, 6],\n",
    "                        [7, 8, 9], [10, 11, 12]]), np.array([15, 33, 51, 69])\n",
    "X_test, y_test = np.array([[11, 12, 13], [14, 15, 16]]), np.array([75, 93])\n",
    "\n",
    "model = MultipleLinearRegressionAM()\n",
    "model.fit(X_train, y_train)\n",
    "\n",
    "y_predict = model.predict(X_test)\n",
    "\n",
    "y_predict"
   ]
  },
  {
   "cell_type": "markdown",
   "metadata": {},
   "source": [
    "### d. Regressão Linear multivariada – gradiente descendente"
   ]
  },
  {
   "cell_type": "code",
   "execution_count": 141,
   "metadata": {},
   "outputs": [
    {
     "data": {
      "text/plain": [
       "array([75., 93.])"
      ]
     },
     "execution_count": 141,
     "metadata": {},
     "output_type": "execute_result"
    }
   ],
   "source": [
    "X_train, y_train = np.array([[1, 2, 3], [4, 5, 6],\n",
    "                        [7, 8, 9], [10, 11, 12]]), np.array([15, 33, 51, 69])\n",
    "X_test, y_test = np.array([[11, 12, 13], [14, 15, 16]]), np.array([75, 93])\n",
    "\n",
    "model = MultipleLinearRegressionGD(ages=3165)\n",
    "model.fit(X_train, y_train)\n",
    "\n",
    "y_predict = model.predict(X_test)\n",
    "\n",
    "y_predict"
   ]
  },
  {
   "cell_type": "markdown",
   "metadata": {},
   "source": [
    "### e. Regressão Linear multivariada – gradiente descendente estocástico"
   ]
  },
  {
   "cell_type": "code",
   "execution_count": 142,
   "metadata": {},
   "outputs": [
    {
     "data": {
      "text/plain": [
       "array([75., 93.])"
      ]
     },
     "execution_count": 142,
     "metadata": {},
     "output_type": "execute_result"
    }
   ],
   "source": [
    "X_train, y_train = np.array([[1, 2, 3], [4, 5, 6],\n",
    "                        [7, 8, 9], [10, 11, 12]]), np.array([15, 33, 51, 69])\n",
    "X_test, y_test = np.array([[11, 12, 13], [14, 15, 16]]), np.array([75, 93])\n",
    "\n",
    "model = MultipleLinearRegressionSGD(ages=5522)\n",
    "model.fit(X_train, y_train)\n",
    "\n",
    "y_predict = model.predict(X_test)\n",
    "\n",
    "y_predict"
   ]
  },
  {
   "cell_type": "markdown",
   "metadata": {},
   "source": [
    "### f. Regressão quadrática usando regressão múltipla"
   ]
  },
  {
   "cell_type": "code",
   "execution_count": 143,
   "metadata": {},
   "outputs": [
    {
     "data": {
      "text/plain": [
       "array([121., 144., 169., 196., 225.])"
      ]
     },
     "execution_count": 143,
     "metadata": {},
     "output_type": "execute_result"
    }
   ],
   "source": [
    "class SquareRegression(MultipleLinearRegressionAM):\n",
    "    def fit(self, X, y):\n",
    "        square_X = np.power(X, 2)\n",
    "        _X = np.c_[X, square_X]\n",
    "\n",
    "        super().fit(_X, y)\n",
    "\n",
    "    def predict(self, x):\n",
    "        square_x = np.power(x, 2)\n",
    "        _x = np.c_[x, square_x]\n",
    "\n",
    "        return super().predict(_x)\n",
    "\n",
    "\n",
    "X_train, y_train = np.array([1, 2, 3, 4, 5, 6, 7, 8, 9, 10]), np.array([\n",
    "        1, 4, 9, 16, 25, 36, 49, 64, 81, 100])\n",
    "X_test, y_test = np.array([11, 12, 13, 14, 15]), np.array([121, 144, 169, 196, 225])\n",
    "\n",
    "model = SquareRegression()\n",
    "model.fit(X_train, y_train)\n",
    "\n",
    "y_predict = model.predict(X_test)\n",
    "\n",
    "y_predict"
   ]
  },
  {
   "cell_type": "markdown",
   "metadata": {},
   "source": [
    "### g. Regressão cúbica usando regressão múltipla"
   ]
  },
  {
   "cell_type": "code",
   "execution_count": 144,
   "metadata": {},
   "outputs": [
    {
     "data": {
      "text/plain": [
       "array([1331.        , 1728.        , 2197.        , 2744.        ,\n",
       "       3375.00000001])"
      ]
     },
     "execution_count": 144,
     "metadata": {},
     "output_type": "execute_result"
    }
   ],
   "source": [
    "class CubicRegression(MultipleLinearRegressionAM):\n",
    "    def fit(self, X, y):\n",
    "        square_X = np.power(X, 2)\n",
    "        cubic_X = np.power(X, 3)\n",
    "        _X = np.c_[X, square_X, cubic_X]\n",
    "\n",
    "        super().fit(_X, y)\n",
    "\n",
    "    def predict(self, x):\n",
    "        square_x = np.power(x, 2)\n",
    "        cubic_x = np.power(x, 3)\n",
    "        _x = np.c_[x, square_x, cubic_x]\n",
    "\n",
    "        return super().predict(_x)\n",
    "\n",
    "\n",
    "X_train, y_train = np.array([1, 2, 3, 4, 5, 6, 7, 8, 9, 10]), np.array(\n",
    "        [1, 8, 27, 64, 125, 216, 343, 512, 729, 1000])\n",
    "X_test, y_test = np.array([11, 12, 13, 14, 15]), np.array(\n",
    "    [1331, 1728, 2197, 2744, 3375])\n",
    "\n",
    "model = CubicRegression()\n",
    "model.fit(X_train, y_train)\n",
    "\n",
    "y_predict = model.predict(X_test)\n",
    "\n",
    "y_predict"
   ]
  },
  {
   "cell_type": "markdown",
   "metadata": {},
   "source": [
    "### h. Regressão Linear Regularizada multivariada – gradiente descendente"
   ]
  },
  {
   "cell_type": "code",
   "execution_count": 145,
   "metadata": {},
   "outputs": [
    {
     "data": {
      "text/plain": [
       "array([75., 93.])"
      ]
     },
     "execution_count": 145,
     "metadata": {},
     "output_type": "execute_result"
    }
   ],
   "source": [
    "X_train, y_train = np.array([[1, 2, 3], [4, 5, 6],\n",
    "                        [7, 8, 9], [10, 11, 12]]), np.array([15, 33, 51, 69])\n",
    "X_test, y_test = np.array([[11, 12, 13], [14, 15, 16]]), np.array([75, 93])\n",
    "\n",
    "model = RegularizedLinearRegressionGD(learning_rate=0.001, ages=23796, regularization_rate=0)\n",
    "model.fit(X_train, y_train)\n",
    "\n",
    "y_predict = model.predict(X_test)\n",
    "\n",
    "y_predict"
   ]
  },
  {
   "cell_type": "markdown",
   "metadata": {},
   "source": [
    "## 2. Implemente as funções"
   ]
  },
  {
   "cell_type": "markdown",
   "metadata": {},
   "source": [
    "### a. MSE(y_true, y_predict)"
   ]
  },
  {
   "cell_type": "code",
   "execution_count": 146,
   "metadata": {
    "scrolled": true
   },
   "outputs": [
    {
     "data": {
      "text/plain": [
       "0.4"
      ]
     },
     "execution_count": 146,
     "metadata": {},
     "output_type": "execute_result"
    }
   ],
   "source": [
    "y_true, y_predict = np.array([23., 25., 26., 30., 31.]), np.array([23., 25., 27., 29., 31.])\n",
    "\n",
    "MSE(y_true, y_predict)"
   ]
  },
  {
   "cell_type": "markdown",
   "metadata": {},
   "source": [
    "### b. R2(y_true, y_predict)"
   ]
  },
  {
   "cell_type": "code",
   "execution_count": 147,
   "metadata": {},
   "outputs": [
    {
     "data": {
      "text/plain": [
       "0.9565217391304348"
      ]
     },
     "execution_count": 147,
     "metadata": {},
     "output_type": "execute_result"
    }
   ],
   "source": [
    "y_true, y_predict = np.array([23., 25., 26., 30., 31.]), np.array([23., 25., 27., 29., 31.])\n",
    "\n",
    "R2(y_true, y_predict)"
   ]
  },
  {
   "cell_type": "markdown",
   "metadata": {},
   "source": [
    "## 3. Carregue o conjunto de dados Boston House Price Dataset (https://archive.ics.uci.edu/ml/machine-learning-databases/housing/). Nesse link também contém a descrição dos atributos"
   ]
  },
  {
   "cell_type": "code",
   "execution_count": 148,
   "metadata": {},
   "outputs": [
    {
     "data": {
      "text/plain": [
       "array([[6.3200e-03, 1.8000e+01, 2.3100e+00, ..., 3.9690e+02, 4.9800e+00,\n",
       "        2.4000e+01],\n",
       "       [2.7310e-02, 0.0000e+00, 7.0700e+00, ..., 3.9690e+02, 9.1400e+00,\n",
       "        2.1600e+01],\n",
       "       [2.7290e-02, 0.0000e+00, 7.0700e+00, ..., 3.9283e+02, 4.0300e+00,\n",
       "        3.4700e+01],\n",
       "       ...,\n",
       "       [6.0760e-02, 0.0000e+00, 1.1930e+01, ..., 3.9690e+02, 5.6400e+00,\n",
       "        2.3900e+01],\n",
       "       [1.0959e-01, 0.0000e+00, 1.1930e+01, ..., 3.9345e+02, 6.4800e+00,\n",
       "        2.2000e+01],\n",
       "       [4.7410e-02, 0.0000e+00, 1.1930e+01, ..., 3.9690e+02, 7.8800e+00,\n",
       "        1.1900e+01]])"
      ]
     },
     "execution_count": 148,
     "metadata": {},
     "output_type": "execute_result"
    }
   ],
   "source": [
    "dataset = np.loadtxt('./datasets/housing.data')\n",
    "\n",
    "dataset"
   ]
  },
  {
   "cell_type": "markdown",
   "metadata": {},
   "source": [
    "### 4. Vamos analisar apenas a variável LSTAT como atributo preditor e a variável MEDV como atributo alvo"
   ]
  },
  {
   "cell_type": "code",
   "execution_count": 149,
   "metadata": {},
   "outputs": [
    {
     "data": {
      "text/plain": [
       "array([[ 4.98, 24.  ],\n",
       "       [ 9.14, 21.6 ],\n",
       "       [ 4.03, 34.7 ],\n",
       "       ...,\n",
       "       [ 5.64, 23.9 ],\n",
       "       [ 6.48, 22.  ],\n",
       "       [ 7.88, 11.9 ]])"
      ]
     },
     "execution_count": 149,
     "metadata": {},
     "output_type": "execute_result"
    }
   ],
   "source": [
    "dataset = dataset[:, 12:]\n",
    "\n",
    "dataset"
   ]
  },
  {
   "cell_type": "markdown",
   "metadata": {},
   "source": [
    "### 5. Embaralhe as amostras com seus valores alvo. Divida o conjunto de dados em 80% para treino e 20% para teste."
   ]
  },
  {
   "cell_type": "code",
   "execution_count": 150,
   "metadata": {},
   "outputs": [],
   "source": [
    "np.random.shuffle(dataset)\n",
    "\n",
    "X = dataset[:, 0]\n",
    "y = dataset[:, 1]\n",
    "\n",
    "\n",
    "def my_train_test_split(X, y, test_size):\n",
    "    n_train = int(np.shape(y)[0] * (1 - test_size))\n",
    "    \n",
    "    return X[:n_train], X[n_train:], y[:n_train], y[n_train:]\n",
    "\n",
    "                  \n",
    "X_train, X_test, y_train, y_test = my_train_test_split(X, y, 0.2)"
   ]
  },
  {
   "cell_type": "markdown",
   "metadata": {},
   "source": [
    "### 6. Para cada um dos métodos a, b, f e g da questão 1 faça o seguinte:"
   ]
  },
  {
   "cell_type": "markdown",
   "metadata": {},
   "source": [
    "#### a. Reporte MSE e R2 score para o conjunto de treino e o de teste"
   ]
  },
  {
   "cell_type": "markdown",
   "metadata": {},
   "source": [
    "##### Regressão Linear univariada - método analítico"
   ]
  },
  {
   "cell_type": "code",
   "execution_count": 151,
   "metadata": {},
   "outputs": [
    {
     "name": "stdout",
     "output_type": "stream",
     "text": [
      ">> Treino\n",
      "MSE: 40.17522824138334\n",
      "R2: 0.5317432055201835\n",
      ">> Teste\n",
      "MSE: 31.92289645716162\n",
      "R2: 0.5887876560748249\n"
     ]
    }
   ],
   "source": [
    "linear_regression_am = SimpleLinearRegressionAM()\n",
    "linear_regression_am.fit(X_train, y_train)\n",
    "\n",
    "print('>> Treino')\n",
    "print('MSE:', MSE(y_train, linear_regression_am.predict(X_train)))\n",
    "print('R2:', R2(y_train, linear_regression_am.predict(X_train)))\n",
    "\n",
    "print('>> Teste')\n",
    "print('MSE:', MSE(y_test, linear_regression_am.predict(X_test)))\n",
    "print('R2:', R2(y_test, linear_regression_am.predict(X_test)))"
   ]
  },
  {
   "cell_type": "markdown",
   "metadata": {},
   "source": [
    "##### Regressão Linear univariada - gradiente descendente"
   ]
  },
  {
   "cell_type": "code",
   "execution_count": 152,
   "metadata": {},
   "outputs": [
    {
     "name": "stdout",
     "output_type": "stream",
     "text": [
      ">> Treino\n",
      "MSE: 40.17522825608101\n",
      "R2: 0.5317432053488769\n",
      ">> Teste\n",
      "MSE: 31.922694566111502\n",
      "R2: 0.5887902567189126\n"
     ]
    }
   ],
   "source": [
    "linear_regression_gd = SimpleLinearRegressionGD(learning_rate=0.001, ages=50000)\n",
    "linear_regression_gd.fit(X_train, y_train)\n",
    "\n",
    "print('>> Treino')\n",
    "print('MSE:', MSE(y_train, linear_regression_gd.predict(X_train)))\n",
    "print('R2:', R2(y_train, linear_regression_gd.predict(X_train)))\n",
    "\n",
    "print('>> Teste')\n",
    "print('MSE:', MSE(y_test, linear_regression_gd.predict(X_test)))\n",
    "print('R2:', R2(y_test, linear_regression_gd.predict(X_test)))"
   ]
  },
  {
   "cell_type": "markdown",
   "metadata": {},
   "source": [
    "##### Regressão quadrática usando regressão múltipla"
   ]
  },
  {
   "cell_type": "code",
   "execution_count": 153,
   "metadata": {},
   "outputs": [
    {
     "name": "stdout",
     "output_type": "stream",
     "text": [
      ">> Treino\n",
      "MSE: 30.84205889019682\n",
      "R2: 0.6405246649923197\n",
      ">> Teste\n",
      "MSE: 28.861963851827024\n",
      "R2: 0.6282168248197636\n"
     ]
    }
   ],
   "source": [
    "square_regression = SquareRegression()\n",
    "square_regression.fit(X_train, y_train)\n",
    "\n",
    "print('>> Treino')\n",
    "print('MSE:', MSE(y_train, square_regression.predict(X_train)))\n",
    "print('R2:', R2(y_train, square_regression.predict(X_train)))\n",
    "\n",
    "print('>> Teste')\n",
    "print('MSE:', MSE(y_test, square_regression.predict(X_test)))\n",
    "print('R2:', R2(y_test, square_regression.predict(X_test)))"
   ]
  },
  {
   "cell_type": "markdown",
   "metadata": {},
   "source": [
    "##### Regressão cúbica usando regressão múltipla"
   ]
  },
  {
   "cell_type": "code",
   "execution_count": 154,
   "metadata": {},
   "outputs": [
    {
     "name": "stdout",
     "output_type": "stream",
     "text": [
      ">> Treino\n",
      "MSE: 29.681592572326718\n",
      "R2: 0.6540503190307432\n",
      ">> Teste\n",
      "MSE: 26.154336757515804\n",
      "R2: 0.6630949157041903\n"
     ]
    }
   ],
   "source": [
    "cubic_regression = CubicRegression()\n",
    "cubic_regression.fit(X_train, y_train)\n",
    "\n",
    "print('>> Treino')\n",
    "print('MSE:', MSE(y_train, cubic_regression.predict(X_train)))\n",
    "print('R2:', R2(y_train, cubic_regression.predict(X_train)))\n",
    "\n",
    "print('>> Teste')\n",
    "print('MSE:', MSE(y_test, cubic_regression.predict(X_test)))\n",
    "print('R2:', R2(y_test, cubic_regression.predict(X_test)))"
   ]
  },
  {
   "cell_type": "markdown",
   "metadata": {},
   "source": [
    "#### b. Reporte os coeficientes"
   ]
  },
  {
   "cell_type": "markdown",
   "metadata": {},
   "source": [
    "##### Regressão Linear univariada - método analítico"
   ]
  },
  {
   "cell_type": "code",
   "execution_count": 155,
   "metadata": {},
   "outputs": [
    {
     "name": "stdout",
     "output_type": "stream",
     "text": [
      "b0: 34.889825961053376\n",
      "b1: -0.9728804233585685\n"
     ]
    }
   ],
   "source": [
    "print('b0:', linear_regression_am.b_0)\n",
    "print('b1:', linear_regression_am.b_1)"
   ]
  },
  {
   "cell_type": "markdown",
   "metadata": {},
   "source": [
    "##### Regressão Linear univariada - gradiente descendente"
   ]
  },
  {
   "cell_type": "code",
   "execution_count": 156,
   "metadata": {},
   "outputs": [
    {
     "name": "stdout",
     "output_type": "stream",
     "text": [
      "b0: 34.889577285071816\n",
      "b1: -0.9728651627965097\n"
     ]
    }
   ],
   "source": [
    "print('b0:', linear_regression_gd.b_0)\n",
    "print('b1:', linear_regression_gd.b_1)"
   ]
  },
  {
   "cell_type": "markdown",
   "metadata": {},
   "source": [
    "##### Regressão quadrática usando regressão múltipla"
   ]
  },
  {
   "cell_type": "code",
   "execution_count": 157,
   "metadata": {},
   "outputs": [
    {
     "name": "stdout",
     "output_type": "stream",
     "text": [
      "b0: 44.00315693488261\n",
      "b1: -2.492538799921874\n",
      "b2: 0.04823384436706467\n"
     ]
    }
   ],
   "source": [
    "print('b0:', square_regression.b[0])\n",
    "print('b1:', square_regression.b[1])\n",
    "print('b2:', square_regression.b[2])"
   ]
  },
  {
   "cell_type": "markdown",
   "metadata": {},
   "source": [
    "##### Regressão cúbica usando regressão múltipla"
   ]
  },
  {
   "cell_type": "code",
   "execution_count": 158,
   "metadata": {},
   "outputs": [
    {
     "name": "stdout",
     "output_type": "stream",
     "text": [
      "b0: 49.29853178072161\n",
      "b1: -3.900888152357739\n",
      "b2: 0.14607886577572665\n",
      "b3: -0.0018878407506090049\n"
     ]
    }
   ],
   "source": [
    "print('b0:', cubic_regression.b[0])\n",
    "print('b1:', cubic_regression.b[1])\n",
    "print('b2:', cubic_regression.b[2])\n",
    "print('b3:', cubic_regression.b[3])"
   ]
  },
  {
   "cell_type": "markdown",
   "metadata": {},
   "source": [
    "#### c. Comentar qual ficou melhor a partir das métricas de erro. Descrever a razão."
   ]
  },
  {
   "cell_type": "markdown",
   "metadata": {},
   "source": [
    "De acordo com as métricas de erro o melhor modelo de regressão foi a regressão cúbica. A razão para isso é que a relação entre as variáveis LSTAT e MEDV não é linear e é possívelmente cúbica."
   ]
  },
  {
   "cell_type": "markdown",
   "metadata": {},
   "source": [
    "### 7. Agora vamos analisar um segundo conjunto de dados. Carregue o conjunto de dados trab1_data.csv (o vetor alvo é a última coluna)"
   ]
  },
  {
   "cell_type": "code",
   "execution_count": 159,
   "metadata": {},
   "outputs": [],
   "source": [
    "dataset = np.loadtxt('./datasets/trab1_data.txt')\n",
    "\n",
    "X = dataset[:, :-1]\n",
    "y = dataset[:, -1]\n",
    "\n",
    "X_train, X_test, y_train, y_test = my_train_test_split(X, y, 0.2)"
   ]
  },
  {
   "cell_type": "markdown",
   "metadata": {},
   "source": [
    "### 8. Para cada um dos métodos c, d, e e h (com λ=1) da questão 1 faça o seguinte:"
   ]
  },
  {
   "cell_type": "markdown",
   "metadata": {},
   "source": [
    "#### a. Reporte MSE e R2 score para o conjunto de treino e o de teste"
   ]
  },
  {
   "cell_type": "markdown",
   "metadata": {},
   "source": [
    "##### Regressão Linear multivariada – método analítico (não esquecer de adicionar termo de bias)"
   ]
  },
  {
   "cell_type": "code",
   "execution_count": 160,
   "metadata": {},
   "outputs": [
    {
     "name": "stdout",
     "output_type": "stream",
     "text": [
      ">> Treino\n",
      "MSE: 0.38290282275552306\n",
      "R2: 0.7754500901175807\n",
      ">> Teste\n",
      "MSE: 0.6251944229652509\n",
      "R2: 0.2519883558419198\n"
     ]
    }
   ],
   "source": [
    "linear_regression_am = MultipleLinearRegressionAM()\n",
    "linear_regression_am.fit(X_train, y_train)\n",
    "\n",
    "print('>> Treino')\n",
    "print('MSE:', MSE(y_train, linear_regression_am.predict(X_train)))\n",
    "print('R2:', R2(y_train, linear_regression_am.predict(X_train)))\n",
    "\n",
    "print('>> Teste')\n",
    "print('MSE:', MSE(y_test, linear_regression_am.predict(X_test)))\n",
    "print('R2:', R2(y_test, linear_regression_am.predict(X_test)))"
   ]
  },
  {
   "cell_type": "markdown",
   "metadata": {},
   "source": [
    "##### Regressão Linear multivariada – gradiente descendente"
   ]
  },
  {
   "cell_type": "code",
   "execution_count": 161,
   "metadata": {},
   "outputs": [
    {
     "name": "stdout",
     "output_type": "stream",
     "text": [
      ">> Treino\n",
      "MSE: 0.8446572686768543\n",
      "R2: 0.5046583563996923\n",
      ">> Teste\n",
      "MSE: 0.4099284393369045\n",
      "R2: 0.5095425764656945\n"
     ]
    }
   ],
   "source": [
    "linear_regression_gd = MultipleLinearRegressionGD()\n",
    "linear_regression_gd.fit(X_train, y_train)\n",
    "\n",
    "print('>> Treino')\n",
    "print('MSE:', MSE(y_train, linear_regression_gd.predict(X_train)))\n",
    "print('R2:', R2(y_train, linear_regression_gd.predict(X_train)))\n",
    "\n",
    "print('>> Teste')\n",
    "print('MSE:', MSE(y_test, linear_regression_gd.predict(X_test)))\n",
    "print('R2:', R2(y_test, linear_regression_gd.predict(X_test)))"
   ]
  },
  {
   "cell_type": "markdown",
   "metadata": {},
   "source": [
    "##### Regressão Linear multivariada – gradiente descendente estocástico"
   ]
  },
  {
   "cell_type": "code",
   "execution_count": 162,
   "metadata": {},
   "outputs": [
    {
     "name": "stdout",
     "output_type": "stream",
     "text": [
      ">> Treino\n",
      "MSE: 0.4814325103223304\n",
      "R2: 0.7176682427427028\n",
      ">> Teste\n",
      "MSE: 0.5056560207189066\n",
      "R2: 0.39500965212959926\n"
     ]
    }
   ],
   "source": [
    "linear_regression_sgd = MultipleLinearRegressionSGD()\n",
    "linear_regression_sgd.fit(X_train, y_train)\n",
    "\n",
    "print('>> Treino')\n",
    "print('MSE:', MSE(y_train, linear_regression_sgd.predict(X_train)))\n",
    "print('R2:', R2(y_train, linear_regression_sgd.predict(X_train)))\n",
    "\n",
    "print('>> Teste')\n",
    "print('MSE:', MSE(y_test, linear_regression_sgd.predict(X_test)))\n",
    "print('R2:', R2(y_test, linear_regression_sgd.predict(X_test)))"
   ]
  },
  {
   "cell_type": "markdown",
   "metadata": {},
   "source": [
    "##### Regressão Linear Regularizada multivariada – gradiente descendente"
   ]
  },
  {
   "cell_type": "code",
   "execution_count": 163,
   "metadata": {},
   "outputs": [
    {
     "name": "stdout",
     "output_type": "stream",
     "text": [
      ">> Treino\n",
      "MSE: 0.6523990118908628\n",
      "R2: 0.6174064785596842\n",
      ">> Teste\n",
      "MSE: 0.5446987241038129\n",
      "R2: 0.3482971485010389\n"
     ]
    }
   ],
   "source": [
    "regularized_linear_regression_gd = RegularizedLinearRegressionGD(regularization_rate=1)\n",
    "regularized_linear_regression_gd.fit(X_train, y_train)\n",
    "\n",
    "print('>> Treino')\n",
    "print('MSE:', MSE(y_train, regularized_linear_regression_gd.predict(X_train)))\n",
    "print('R2:', R2(y_train, regularized_linear_regression_gd.predict(X_train)))\n",
    "\n",
    "print('>> Teste')\n",
    "print('MSE:', MSE(y_test, regularized_linear_regression_gd.predict(X_test)))\n",
    "print('R2:', R2(y_test, regularized_linear_regression_gd.predict(X_test)))"
   ]
  },
  {
   "cell_type": "markdown",
   "metadata": {},
   "source": [
    "#### b. Reporte os coeficientes"
   ]
  },
  {
   "cell_type": "markdown",
   "metadata": {},
   "source": [
    "##### Regressão Linear multivariada – método analítico (não esquecer de adicionar termo de bias)"
   ]
  },
  {
   "cell_type": "code",
   "execution_count": 164,
   "metadata": {},
   "outputs": [
    {
     "name": "stdout",
     "output_type": "stream",
     "text": [
      "b: [ 0.90893125  2.09518349 -0.01984449 -1.1322022   0.05301581 -0.25919221]\n"
     ]
    }
   ],
   "source": [
    "print('b:', linear_regression_am.b)"
   ]
  },
  {
   "cell_type": "markdown",
   "metadata": {},
   "source": [
    "##### Regressão Linear multivariada – gradiente descendente"
   ]
  },
  {
   "cell_type": "code",
   "execution_count": 165,
   "metadata": {},
   "outputs": [
    {
     "name": "stdout",
     "output_type": "stream",
     "text": [
      "b: [0.14567432 0.34464373 0.47353521 0.17773758 0.19813187 0.25747072]\n"
     ]
    }
   ],
   "source": [
    "print('b:', linear_regression_gd.b)"
   ]
  },
  {
   "cell_type": "markdown",
   "metadata": {},
   "source": [
    "##### Regressão Linear multivariada – gradiente descendente estocástico"
   ]
  },
  {
   "cell_type": "code",
   "execution_count": 166,
   "metadata": {},
   "outputs": [
    {
     "name": "stdout",
     "output_type": "stream",
     "text": [
      "b: [0.07545829 0.93891418 0.19826959 0.33325624 0.10861063 0.22807532]\n"
     ]
    }
   ],
   "source": [
    "print('b:', linear_regression_sgd.b)"
   ]
  },
  {
   "cell_type": "markdown",
   "metadata": {},
   "source": [
    "##### Regressão Linear Regularizada multivariada – gradiente descendente"
   ]
  },
  {
   "cell_type": "code",
   "execution_count": 167,
   "metadata": {},
   "outputs": [
    {
     "name": "stdout",
     "output_type": "stream",
     "text": [
      "b_0: 0.14349698371581232\n",
      "b_j: [0.50639396 0.43258936 0.23169842 0.19798427 0.28348577]\n"
     ]
    }
   ],
   "source": [
    "print('b_0:', regularized_linear_regression_gd.b_0)\n",
    "print('b_j:', regularized_linear_regression_gd.b_j)"
   ]
  },
  {
   "cell_type": "markdown",
   "metadata": {},
   "source": [
    "#### c. Apenas para o método d e e, plote o MSE para cada época em um gráfico linha. Comente qual dos métodos converge mais rápido."
   ]
  },
  {
   "cell_type": "markdown",
   "metadata": {},
   "source": [
    "##### Regressão Linear multivariada – gradiente descendente"
   ]
  },
  {
   "cell_type": "code",
   "execution_count": 168,
   "metadata": {},
   "outputs": [
    {
     "data": {
      "text/plain": [
       "[<matplotlib.lines.Line2D at 0x7f7d61cb0e80>]"
      ]
     },
     "execution_count": 168,
     "metadata": {},
     "output_type": "execute_result"
    },
    {
     "data": {
      "image/png": "[encoded data removed]",
      "text/plain": [
       "<Figure size 432x288 with 1 Axes>"
      ]
     },
     "metadata": {
      "needs_background": "light"
     },
     "output_type": "display_data"
    }
   ],
   "source": [
    "ages = []\n",
    "MSEs = []\n",
    "\n",
    "for i in range(1, 101):\n",
    "    ages.append(i)\n",
    "    \n",
    "    linear_regression_gd = MultipleLinearRegressionGD(ages=i)\n",
    "    linear_regression_gd.fit(X_train, y_train)\n",
    "    \n",
    "    MSEs.append(MSE(y_train, linear_regression_gd.predict(X_train)))\n",
    "    \n",
    "plt.plot(ages, MSEs)"
   ]
  },
  {
   "cell_type": "markdown",
   "metadata": {},
   "source": [
    "##### Regressão Linear multivariada – gradiente descendente estocástico"
   ]
  },
  {
   "cell_type": "code",
   "execution_count": 169,
   "metadata": {
    "scrolled": true
   },
   "outputs": [
    {
     "data": {
      "text/plain": [
       "[<matplotlib.lines.Line2D at 0x7f7d61779ca0>]"
      ]
     },
     "execution_count": 169,
     "metadata": {},
     "output_type": "execute_result"
    },
    {
     "data": {
      "image/png": "[encoded data removed]",
      "text/plain": [
       "<Figure size 432x288 with 1 Axes>"
      ]
     },
     "metadata": {
      "needs_background": "light"
     },
     "output_type": "display_data"
    }
   ],
   "source": [
    "ages = []\n",
    "MSEs = []\n",
    "\n",
    "for i in range(1, 101):\n",
    "    ages.append(i)\n",
    "    \n",
    "    linear_regression_sgd = MultipleLinearRegressionSGD(ages=i)\n",
    "    linear_regression_sgd.fit(X_train, y_train)\n",
    "    \n",
    "    MSEs.append(MSE(y_train, linear_regression_sgd.predict(X_train)))\n",
    "    \n",
    "plt.plot(ages, MSEs)"
   ]
  },
  {
   "cell_type": "markdown",
   "metadata": {},
   "source": [
    "O método de gradiente descendente não estocástico parece convergir (diminuição no erro) mais rápido"
   ]
  },
  {
   "cell_type": "markdown",
   "metadata": {},
   "source": [
    "#### d. Apenas para o método h, plote o MSE para o conjunto de treino e o conjunto de teste (duas linhas) variando λ=1,2,3,4,5. Comente qual seria o valor de  mais adequado"
   ]
  },
  {
   "cell_type": "code",
   "execution_count": 170,
   "metadata": {},
   "outputs": [
    {
     "data": {
      "text/plain": [
       "[<matplotlib.lines.Line2D at 0x7f7d6175f400>]"
      ]
     },
     "execution_count": 170,
     "metadata": {},
     "output_type": "execute_result"
    },
    {
     "data": {
      "image/png": "[encoded data removed]",
      "text/plain": [
       "<Figure size 432x288 with 1 Axes>"
      ]
     },
     "metadata": {
      "needs_background": "light"
     },
     "output_type": "display_data"
    }
   ],
   "source": [
    "regularization_rate_values = []\n",
    "MSE_values_train = []\n",
    "MSE_values_test = []\n",
    "\n",
    "for i in range(1, 6):\n",
    "    regularization_rate_values.append(i)\n",
    "    \n",
    "    regularized_linear_regression_gd = RegularizedLinearRegressionGD(regularization_rate=i)\n",
    "    regularized_linear_regression_gd.fit(X_train, y_train)\n",
    "    \n",
    "    MSE_values_train.append(MSE(y_train, regularized_linear_regression_gd.predict(X_train)))\n",
    "    MSE_values_test.append(MSE(y_test, regularized_linear_regression_gd.predict(X_test)))\n",
    "    \n",
    "plt.plot(regularization_rate_values, MSE_values_train, color='blue')\n",
    "plt.plot(regularization_rate_values, MSE_values_test, color='green')"
   ]
  },
  {
   "cell_type": "markdown",
   "metadata": {},
   "source": [
    "O valor mais adequado parece ser 1 pois ao se aumentar o valor λ os erros nos conjuntos de treino e teste crescem."
   ]
  },
  {
   "cell_type": "code",
   "execution_count": null,
   "metadata": {},
   "outputs": [],
   "source": []
  }
 ],
 "metadata": {
  "kernelspec": {
   "display_name": "Python 3",
   "language": "python",
   "name": "python3"
  },
  "language_info": {
   "codemirror_mode": {
    "name": "ipython",
    "version": 3
   },
   "file_extension": ".py",
   "mimetype": "text/x-python",
   "name": "python",
   "nbconvert_exporter": "python",
   "pygments_lexer": "ipython3",
   "version": "3.8.2"
  }
 },
 "nbformat": 4,
 "nbformat_minor": 4
}
