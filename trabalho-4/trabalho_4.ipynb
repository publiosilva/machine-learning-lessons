{
 "cells": [
  {
   "cell_type": "code",
   "execution_count": 1,
   "metadata": {},
   "outputs": [],
   "source": [
    "import numpy as np\n",
    "import matplotlib.pyplot as plt"
   ]
  },
  {
   "cell_type": "markdown",
   "metadata": {},
   "source": [
    "# Conjunto de dados"
   ]
  },
  {
   "cell_type": "markdown",
   "metadata": {},
   "source": [
    "## 1. Usar conjunto de dados trab4.data"
   ]
  },
  {
   "cell_type": "code",
   "execution_count": 2,
   "metadata": {},
   "outputs": [],
   "source": [
    "dataset = np.genfromtxt(\"./data/trab4.data\", delimiter=\",\")"
   ]
  },
  {
   "cell_type": "markdown",
   "metadata": {},
   "source": [
    "## 2. Primeiras 4 colunas são as features das instâncias"
   ]
  },
  {
   "cell_type": "code",
   "execution_count": 3,
   "metadata": {},
   "outputs": [],
   "source": [
    "X = dataset[:, :-1]"
   ]
  },
  {
   "cell_type": "markdown",
   "metadata": {},
   "source": [
    "## 3. Última coluna é a variável alvo"
   ]
  },
  {
   "cell_type": "code",
   "execution_count": 4,
   "metadata": {},
   "outputs": [],
   "source": [
    "y = dataset[:, -1]"
   ]
  },
  {
   "cell_type": "markdown",
   "metadata": {},
   "source": [
    "# K-Means"
   ]
  },
  {
   "cell_type": "markdown",
   "metadata": {},
   "source": [
    "## 1. Implemente o k-means usando a distância euclidiana."
   ]
  },
  {
   "cell_type": "code",
   "execution_count": 5,
   "metadata": {},
   "outputs": [],
   "source": [
    "from kmeans import KMeans"
   ]
  },
  {
   "cell_type": "markdown",
   "metadata": {},
   "source": [
    "## 2. Execute o k-means para k = { 2, 3, 4, 5 }"
   ]
  },
  {
   "cell_type": "markdown",
   "metadata": {},
   "source": [
    "### a. Plote a distância média de cada ponto para o seu centróide em um gráfico linha em função de k (média sobre 20 rodadas)"
   ]
  },
  {
   "cell_type": "code",
   "execution_count": 6,
   "metadata": {},
   "outputs": [
    {
     "data": {
      "image/png": "[encoded data removed]",
      "text/plain": [
       "<Figure size 432x288 with 1 Axes>"
      ]
     },
     "metadata": {
      "needs_background": "light"
     },
     "output_type": "display_data"
    }
   ],
   "source": [
    "k = [2, 3, 4, 5]\n",
    "k_average_distance = []\n",
    "\n",
    "for k_i in k:\n",
    "    km = KMeans(k_i)\n",
    "    average_distances = []\n",
    "    \n",
    "    for _ in range(20):\n",
    "        km.fit(X)\n",
    "        average_distances.append(np.mean(km.distances_to_centroid))\n",
    "        \n",
    "    k_average_distance.append(np.mean(average_distances))\n",
    "    \n",
    "plt.grid()\n",
    "plt.xlabel('K')\n",
    "plt.ylabel('Average Distance to Centroid')\n",
    "plt.xticks(k)\n",
    "plt.plot(k, k_average_distance)\n",
    "plt.plot(k, k_average_distance, '.')\n",
    "plt.show()"
   ]
  },
  {
   "cell_type": "markdown",
   "metadata": {},
   "source": [
    "### b. Discuta qual seria o k ideal a ser usado"
   ]
  },
  {
   "cell_type": "markdown",
   "metadata": {},
   "source": [
    "Pela regra do cotovelo o número ideal de k seria 3 já que no gráfico acima a quebra ou \"cotovelo\" ocorre nesse ponto."
   ]
  },
  {
   "cell_type": "markdown",
   "metadata": {},
   "source": [
    "# PCA"
   ]
  },
  {
   "cell_type": "markdown",
   "metadata": {},
   "source": [
    "## 1. Implemente o PCA"
   ]
  },
  {
   "cell_type": "code",
   "execution_count": 7,
   "metadata": {},
   "outputs": [],
   "source": [
    "from pca import PCA"
   ]
  },
  {
   "cell_type": "markdown",
   "metadata": {},
   "source": [
    "### a. Você deve implementar a função de calcular a matriz de covariância"
   ]
  },
  {
   "cell_type": "code",
   "execution_count": 8,
   "metadata": {},
   "outputs": [],
   "source": [
    "def cov(x1, x2):\n",
    "    (x1_mean, x2_mean) = (x1.mean(), x2.mean())\n",
    "\n",
    "    return 1 / (np.shape(x1)[0] - 1) * np.sum((x1 - x1_mean) * (x2\n",
    "            - x2_mean))\n",
    "\n",
    "\n",
    "def cov_matrix(data):\n",
    "    data_T = np.transpose(data)\n",
    "\n",
    "    return np.array([[cov(i, j) for i in data_T] for j in data_T])\n"
   ]
  },
  {
   "cell_type": "markdown",
   "metadata": {},
   "source": [
    "### b. A função de achar os autovetores e os autovalores pode ser usado pronto do numpy https://numpy.org/doc/stable/reference/generated/numpy.linalg.eig.html"
   ]
  },
  {
   "cell_type": "code",
   "execution_count": 9,
   "metadata": {},
   "outputs": [],
   "source": [
    "# utilizado no método fit em (from pca import PCA)"
   ]
  },
  {
   "cell_type": "markdown",
   "metadata": {},
   "source": [
    "## 2. Reduza o conjunto de dados original em um conjunto com apenas duas variáveis (2 componentes principais de maior autovalor)"
   ]
  },
  {
   "cell_type": "code",
   "execution_count": 10,
   "metadata": {},
   "outputs": [
    {
     "data": {
      "text/plain": [
       "(150, 2)"
      ]
     },
     "execution_count": 10,
     "metadata": {},
     "output_type": "execute_result"
    }
   ],
   "source": [
    "pca = PCA(2)\n",
    "pca.fit(X)\n",
    "\n",
    "X_2 = pca.fit_transform(X)\n",
    "X_2.shape"
   ]
  },
  {
   "cell_type": "markdown",
   "metadata": {},
   "source": [
    "### a. Reporte quanto de variância foi preservado"
   ]
  },
  {
   "cell_type": "code",
   "execution_count": 11,
   "metadata": {},
   "outputs": [
    {
     "data": {
      "text/plain": [
       "95.80097536148197"
      ]
     },
     "execution_count": 11,
     "metadata": {},
     "output_type": "execute_result"
    }
   ],
   "source": [
    "e_values_ratio = pca.e_values_ratio\n",
    "\n",
    "v = np.sum(e_values_ratio[:2]) * 100\n",
    "v"
   ]
  },
  {
   "cell_type": "markdown",
   "metadata": {},
   "source": [
    "Foi preservada 95.8% de variância."
   ]
  },
  {
   "cell_type": "markdown",
   "metadata": {},
   "source": [
    "### b. Plote cada ponto do conjunto transformado em um gráfico de dispersão 2d  atribuindo uma cor para cada uma das classes (3 classes no total)."
   ]
  },
  {
   "cell_type": "code",
   "execution_count": 12,
   "metadata": {},
   "outputs": [
    {
     "data": {
      "text/plain": [
       "<matplotlib.collections.PathCollection at 0x7fa3917b3520>"
      ]
     },
     "execution_count": 12,
     "metadata": {},
     "output_type": "execute_result"
    },
    {
     "data": {
      "image/png": "[encoded data removed]",
      "text/plain": [
       "<Figure size 432x288 with 1 Axes>"
      ]
     },
     "metadata": {
      "needs_background": "light"
     },
     "output_type": "display_data"
    }
   ],
   "source": [
    "plt.scatter(X_2[:, 0], X_2[:, 1], c=y)"
   ]
  },
  {
   "cell_type": "markdown",
   "metadata": {},
   "source": [
    "# Árvores de decisão"
   ]
  },
  {
   "cell_type": "markdown",
   "metadata": {},
   "source": [
    "## 1. Implemente a árvore de decisão usando o coeficiente de Gini como mostrado em sala"
   ]
  },
  {
   "cell_type": "code",
   "execution_count": 13,
   "metadata": {},
   "outputs": [],
   "source": [
    "from decision_tree import DecisionTree"
   ]
  },
  {
   "cell_type": "markdown",
   "metadata": {},
   "source": [
    "## 2. Reporte o erro de classificação para o k-fold com k=5"
   ]
  },
  {
   "cell_type": "markdown",
   "metadata": {},
   "source": [
    "### a. Pode usar o k-fold que foi implementado em atividades passadas ou pode usar pronto do scikit-learn"
   ]
  },
  {
   "cell_type": "code",
   "execution_count": 14,
   "metadata": {},
   "outputs": [],
   "source": [
    "def accuracy(y_true, y_pred):\n",
    "    return (len(y_true) - np.count_nonzero(y_true - y_pred)) / len(y_true)\n",
    "\n",
    "\n",
    "def k_fold(X, y, k, method):\n",
    "    size = np.shape(X)[0]\n",
    "    fold_size = size // k\n",
    "    X_folds = np.array_split(X, fold_size)\n",
    "    y_folds = np.array_split(y, fold_size)\n",
    "    k_fold_accuracy = []\n",
    "    \n",
    "    for i in range(k):\n",
    "        X_train = np.concatenate([X_folds[j] for j in np.arange(k)[np.arange(k) != i]])\n",
    "        X_test = X_folds[i]\n",
    "        y_train = np.concatenate([y_folds[j] for j in np.arange(k)[np.arange(k) != i]])\n",
    "        y_test = y_folds[i]\n",
    "        \n",
    "        method.fit(X_train, y_train)\n",
    "        y_pred = method.predict(X_test)\n",
    "        \n",
    "        k_fold_accuracy.append(accuracy(y_test, y_pred))\n",
    "        \n",
    "    return k_fold_accuracy"
   ]
  },
  {
   "cell_type": "markdown",
   "metadata": {},
   "source": [
    "### b. Erro de classificação pode usar pronto do scikit-learn também"
   ]
  },
  {
   "cell_type": "code",
   "execution_count": 15,
   "metadata": {},
   "outputs": [
    {
     "data": {
      "text/plain": [
       "[1.0, 1.0, 1.0, 1.0, 1.0]"
      ]
     },
     "execution_count": 15,
     "metadata": {},
     "output_type": "execute_result"
    }
   ],
   "source": [
    "dt = DecisionTree()\n",
    "\n",
    "k_fold(X, y, 5, dt)"
   ]
  }
 ],
 "metadata": {
  "kernelspec": {
   "display_name": "Python 3",
   "language": "python",
   "name": "python3"
  },
  "language_info": {
   "codemirror_mode": {
    "name": "ipython",
    "version": 3
   },
   "file_extension": ".py",
   "mimetype": "text/x-python",
   "name": "python",
   "nbconvert_exporter": "python",
   "pygments_lexer": "ipython3",
   "version": "3.8.5"
  }
 },
 "nbformat": 4,
 "nbformat_minor": 4
}
