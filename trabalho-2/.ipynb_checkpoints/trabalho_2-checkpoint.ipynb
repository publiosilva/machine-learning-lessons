{
 "cells": [
  {
   "cell_type": "code",
   "execution_count": 1,
   "metadata": {},
   "outputs": [],
   "source": [
    "import numpy as np\n",
    "import matplotlib.pyplot as plt"
   ]
  },
  {
   "cell_type": "markdown",
   "metadata": {},
   "source": [
    "# Implementação"
   ]
  },
  {
   "cell_type": "markdown",
   "metadata": {},
   "source": [
    "## 1. Implemente os seguintes métodos:"
   ]
  },
  {
   "cell_type": "markdown",
   "metadata": {},
   "source": [
    "### a. Regressão Logística - Gradiente Descendente"
   ]
  },
  {
   "cell_type": "code",
   "execution_count": 2,
   "metadata": {},
   "outputs": [],
   "source": [
    "from logistic_regression import SingleLabelLogisticRegression"
   ]
  },
  {
   "cell_type": "markdown",
   "metadata": {},
   "source": [
    "### b. Naive Bayes Gaussiano"
   ]
  },
  {
   "cell_type": "code",
   "execution_count": 3,
   "metadata": {},
   "outputs": [],
   "source": [
    "from gaussian_naive_bayes import GaussianNaiveBayes"
   ]
  },
  {
   "cell_type": "markdown",
   "metadata": {},
   "source": [
    "### c. Discriminante Quadrático Gaussiano"
   ]
  },
  {
   "cell_type": "code",
   "execution_count": 4,
   "metadata": {},
   "outputs": [],
   "source": [
    "from gaussian_quadratic_discriminant import GaussianQuadraticDiscriminant"
   ]
  },
  {
   "cell_type": "markdown",
   "metadata": {},
   "source": [
    "## 2. Implemente a função acurácia(y_true, y_pred) que retorna a porcentagem de acerto de y_true."
   ]
  },
  {
   "cell_type": "code",
   "execution_count": 5,
   "metadata": {},
   "outputs": [],
   "source": [
    "def accuracy(y_true, y_pred):\n",
    "    return (len(y_true) - np.count_nonzero(y_true - y_pred)) / len(y_true)"
   ]
  },
  {
   "cell_type": "markdown",
   "metadata": {},
   "source": [
    "## 3. Implemente uma função que receba um classificador e o conjunto de testes e exiba uma matriz de confusão:\n",
    "\n",
    "**Assinatura: plot_confusion_matrix(X, y, clf)**\n",
    "\n",
    "**Código de exemplo: <https://scikit-learn.org/stable/auto_examples/model_selection/plot_confusion_matrix.html>**"
   ]
  },
  {
   "cell_type": "code",
   "execution_count": 75,
   "metadata": {},
   "outputs": [],
   "source": [
    "import itertools\n",
    "\n",
    "from utils import confusion_matrix\n",
    "\n",
    "\n",
    "def plot_confusion_matrix(X, y, clf):\n",
    "    labels = np.unique(y)\n",
    "\n",
    "    y_true = y\n",
    "    y_pred = clf.predict(X)\n",
    "\n",
    "    cm = confusion_matrix(y, y_pred, labels)\n",
    "    cmap = plt.get_cmap('Blues')\n",
    "\n",
    "    plt.figure(figsize=(8, 6))\n",
    "    plt.imshow(cm, interpolation='nearest', cmap=cmap)\n",
    "    plt.colorbar()\n",
    "\n",
    "    tick_marks = np.arange(len(labels))\n",
    "    plt.xticks(tick_marks, labels)\n",
    "    plt.yticks(tick_marks, labels)\n",
    "\n",
    "    thresh = cm.max() / 2\n",
    "\n",
    "    for (i, j) in itertools.product(range(cm.shape[0]),\n",
    "                                    range(cm.shape[1])):\n",
    "        plt.text(j, i, '{:,}'.format(cm[i, j]),\n",
    "                 horizontalalignment='center', color=('white' if cm[i,\n",
    "                 j] > thresh else 'black'))\n",
    "\n",
    "    plt.tight_layout()\n",
    "    plt.ylabel('True label')\n",
    "    plt.xlabel('Predicted label')\n",
    "    plt.show()\n"
   ]
  },
  {
   "cell_type": "markdown",
   "metadata": {},
   "source": [
    "## 4. Implemente uma função que receba o classificador e o conjunto de teste e exiba o conjunto de testes em um gráfico de dispersão juntamente com as fronteiras de separação do classificador.\n",
    "\n",
    "**Assinatura: plot_boundaries(X, y, clf)**\n",
    "\n",
    "**Código de exemplo: <https://scikit-learn.org/stable/auto_examples/linear_model/plot_iris_logistic.html>**"
   ]
  },
  {
   "cell_type": "code",
   "execution_count": 76,
   "metadata": {},
   "outputs": [],
   "source": [
    "def plot_boundaries(X, y, clf):\n",
    "    (x_min, x_max) = (X[:, 0].min() - .5, X[:, 0].max() + .5)\n",
    "    (y_min, y_max) = (X[:, 1].min() - .5, X[:, 1].max() + .5)\n",
    "\n",
    "    h = .02\n",
    "\n",
    "    (xx, yy) = np.meshgrid(np.arange(x_min, x_max, h), np.arange(y_min,\n",
    "                           y_max, h))\n",
    "\n",
    "    Z = clf.predict(np.c_[xx.ravel(), yy.ravel()])\n",
    "    Z = Z.reshape(xx.shape)\n",
    "\n",
    "    plt.figure(1, figsize=(5, 5))\n",
    "    plt.pcolormesh(xx, yy, Z, cmap=plt.cm.Paired, shading='auto')\n",
    "\n",
    "    plt.scatter(X[:, 0], X[:, 1], c=y, edgecolors='k',\n",
    "                cmap=plt.cm.Paired)\n",
    "\n",
    "    plt.xlim(xx.min(), xx.max())\n",
    "    plt.ylim(yy.min(), yy.max())\n",
    "    plt.xticks(())\n",
    "    plt.yticks(())\n",
    "\n",
    "    plt.show()\n"
   ]
  },
  {
   "cell_type": "markdown",
   "metadata": {},
   "source": [
    "# Conjunto de dados"
   ]
  },
  {
   "cell_type": "markdown",
   "metadata": {},
   "source": [
    "## 1. Carregar trab2.data"
   ]
  },
  {
   "cell_type": "code",
   "execution_count": 77,
   "metadata": {},
   "outputs": [],
   "source": [
    "from utils import MinMaxScaler\n",
    "\n",
    "dataset = np.genfromtxt(\"./data/ex2data1.txt\", delimiter=\",\")\n",
    "\n",
    "mms = MinMaxScaler()\n",
    "\n",
    "mms.fit(dataset)\n",
    "\n",
    "normalized_dataset = mms.transform(dataset)"
   ]
  },
  {
   "cell_type": "markdown",
   "metadata": {},
   "source": [
    "## 2. A duas primeiras colunas são as características e a última coluna é a variável alvo"
   ]
  },
  {
   "cell_type": "code",
   "execution_count": 78,
   "metadata": {},
   "outputs": [],
   "source": [
    "X, y = normalized_dataset[:, :-1], normalized_dataset[:, -1]"
   ]
  },
  {
   "cell_type": "markdown",
   "metadata": {},
   "source": [
    "## 3. Usar 70% do conjunto para treino e 30% para teste"
   ]
  },
  {
   "cell_type": "code",
   "execution_count": 79,
   "metadata": {},
   "outputs": [],
   "source": [
    "from utils import train_test_split\n",
    "\n",
    "X_train, X_test, y_train, y_test = train_test_split(X, y, 0.3)"
   ]
  },
  {
   "cell_type": "markdown",
   "metadata": {},
   "source": [
    "# Relatório"
   ]
  },
  {
   "cell_type": "code",
   "execution_count": 80,
   "metadata": {},
   "outputs": [],
   "source": [
    "sllr = SingleLabelLogisticRegression(learning_rate=0.001, ages=10000, threshold=0.54)\n",
    "sllr.fit(X_train, y_train)\n",
    "\n",
    "gnb = GaussianNaiveBayes()\n",
    "gnb.fit(X_train, y_train)\n",
    "\n",
    "gqd = GaussianQuadraticDiscriminant()\n",
    "gqd.fit(X_train, y_train)"
   ]
  },
  {
   "cell_type": "markdown",
   "metadata": {},
   "source": [
    "## 1. Para cada uma das técnicas de classificação apresente:"
   ]
  },
  {
   "cell_type": "markdown",
   "metadata": {},
   "source": [
    "### a. A porcentagem de predições corretas para o conjunto de teste usando a função acurácia."
   ]
  },
  {
   "cell_type": "markdown",
   "metadata": {},
   "source": [
    "**Regressão Logística – Gradiente Descendente**"
   ]
  },
  {
   "cell_type": "code",
   "execution_count": 81,
   "metadata": {},
   "outputs": [
    {
     "name": "stdout",
     "output_type": "stream",
     "text": [
      "accuracy: 0.9333333333333333\n"
     ]
    }
   ],
   "source": [
    "y_pred = sllr.predict(X_test)\n",
    "\n",
    "print('accuracy:', accuracy(y_test, y_pred))"
   ]
  },
  {
   "cell_type": "markdown",
   "metadata": {},
   "source": [
    "**Naive Bayes Gaussiano**"
   ]
  },
  {
   "cell_type": "code",
   "execution_count": 82,
   "metadata": {},
   "outputs": [
    {
     "name": "stdout",
     "output_type": "stream",
     "text": [
      "accuracy: 0.8\n"
     ]
    }
   ],
   "source": [
    "y_pred = gnb.predict(X_test)\n",
    "\n",
    "print('accuracy:', accuracy(y_test, y_pred))"
   ]
  },
  {
   "cell_type": "markdown",
   "metadata": {},
   "source": [
    "**Discriminante Quadrático Gaussiano**"
   ]
  },
  {
   "cell_type": "code",
   "execution_count": 83,
   "metadata": {},
   "outputs": [
    {
     "name": "stdout",
     "output_type": "stream",
     "text": [
      "accuracy: 0.8333333333333334\n"
     ]
    }
   ],
   "source": [
    "y_pred = gqd.predict(X_test)\n",
    "\n",
    "print('accuracy:', accuracy(y_test, y_pred))"
   ]
  },
  {
   "cell_type": "markdown",
   "metadata": {},
   "source": [
    "### b. A matriz de confusão."
   ]
  },
  {
   "cell_type": "code",
   "execution_count": 84,
   "metadata": {},
   "outputs": [
    {
     "data": {
      "image/png": "[encoded data removed]",
      "text/plain": [
       "<Figure size 432x432 with 2 Axes>"
      ]
     },
     "metadata": {
      "needs_background": "light"
     },
     "output_type": "display_data"
    }
   ],
   "source": [
    "plot_confusion_matrix(X_test, y_test, sllr)"
   ]
  },
  {
   "cell_type": "markdown",
   "metadata": {},
   "source": [
    "### c. O dado em um gráfico de dispersão com as fronteiras de separação."
   ]
  },
  {
   "cell_type": "markdown",
   "metadata": {},
   "source": [
    "**Regressão Logística – Gradiente Descendente**"
   ]
  },
  {
   "cell_type": "code",
   "execution_count": 15,
   "metadata": {},
   "outputs": [
    {
     "data": {
      "image/png": "[encoded data removed]",
      "text/plain": [
       "<Figure size 360x360 with 1 Axes>"
      ]
     },
     "metadata": {},
     "output_type": "display_data"
    }
   ],
   "source": [
    "plot_boundaries(X_test, y_test, sllr)"
   ]
  },
  {
   "cell_type": "markdown",
   "metadata": {},
   "source": [
    "**Naive Bayes Gaussiano**"
   ]
  },
  {
   "cell_type": "code",
   "execution_count": 16,
   "metadata": {},
   "outputs": [
    {
     "data": {
      "image/png": "[encoded data removed]",
      "text/plain": [
       "<Figure size 360x360 with 1 Axes>"
      ]
     },
     "metadata": {},
     "output_type": "display_data"
    }
   ],
   "source": [
    "plot_boundaries(X_test, y_test, gnb)"
   ]
  },
  {
   "cell_type": "markdown",
   "metadata": {},
   "source": [
    "**Discriminante Quadrático Gaussiano**"
   ]
  },
  {
   "cell_type": "code",
   "execution_count": 17,
   "metadata": {},
   "outputs": [
    {
     "data": {
      "image/png": "[encoded data removed]",
      "text/plain": [
       "<Figure size 360x360 with 1 Axes>"
      ]
     },
     "metadata": {},
     "output_type": "display_data"
    }
   ],
   "source": [
    "plot_boundaries(X_test, y_test, gqd)"
   ]
  },
  {
   "cell_type": "markdown",
   "metadata": {},
   "source": [
    "## 2. O dado parece se linearmente separável ou não?"
   ]
  },
  {
   "cell_type": "markdown",
   "metadata": {},
   "source": [
    "Sim, parece ser possível traçar uma linha reta que separa bem os dois tipos de dados (com exceção de algumas amostras que parecem ser outliers)"
   ]
  },
  {
   "cell_type": "markdown",
   "metadata": {},
   "source": [
    "## 3. Quais dos métodos produziu fronteiras lineares?"
   ]
  },
  {
   "cell_type": "markdown",
   "metadata": {},
   "source": [
    "Apenas o método utilizando regressão logística com gradiente descendente produziu fronteiras lineares. Os outros métodos produziram fronteiras aparentemente quadráticas."
   ]
  },
  {
   "cell_type": "markdown",
   "metadata": {},
   "source": [
    "## 4. Qual teve melhor acurácia?"
   ]
  },
  {
   "cell_type": "markdown",
   "metadata": {},
   "source": [
    "O método da regressão logística com gradiente descendente teve melhor acurácia (0.93) que os métodos Naive Bayes Gaussiano (0.8) e Discriminante Quadrático Gaussiano (0.83) o que apoia a suposição de que os dados são linearmente separáveis (questão 2 do relatório)."
   ]
  }
 ],
 "metadata": {
  "kernelspec": {
   "display_name": "Python 3",
   "language": "python",
   "name": "python3"
  },
  "language_info": {
   "codemirror_mode": {
    "name": "ipython",
    "version": 3
   },
   "file_extension": ".py",
   "mimetype": "text/x-python",
   "name": "python",
   "nbconvert_exporter": "python",
   "pygments_lexer": "ipython3",
   "version": "3.8.2"
  }
 },
 "nbformat": 4,
 "nbformat_minor": 4
}
